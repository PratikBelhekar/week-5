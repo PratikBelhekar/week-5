{
 "cells": [
  {
   "cell_type": "markdown",
   "metadata": {},
   "source": [
    "## Pratik Sanjay Belhekar\n",
    "## Username - pbelh2\n",
    "## email-id - pbelh2@uis.edu"
   ]
  },
  {
   "cell_type": "code",
   "execution_count": 1,
   "metadata": {
    "collapsed": true
   },
   "outputs": [],
   "source": [
    "from sklearn import datasets\n",
    "import pandas as pd\n",
    "from sklearn.preprocessing import StandardScaler\n",
    "from sklearn.cross_validation import train_test_split\n",
    "from sklearn.metrics import mean_squared_error\n",
    "from sklearn.metrics import r2_score\n",
    "from sklearn.linear_model import LinearRegression"
   ]
  },
  {
   "cell_type": "code",
   "execution_count": 2,
   "metadata": {
    "collapsed": false
   },
   "outputs": [
    {
     "name": "stdout",
     "output_type": "stream",
     "text": [
      "Boston House Prices dataset\n",
      "\n",
      "Notes\n",
      "------\n",
      "Data Set Characteristics:  \n",
      "\n",
      "    :Number of Instances: 506 \n",
      "\n",
      "    :Number of Attributes: 13 numeric/categorical predictive\n",
      "    \n",
      "    :Median Value (attribute 14) is usually the target\n",
      "\n",
      "    :Attribute Information (in order):\n",
      "        - CRIM     per capita crime rate by town\n",
      "        - ZN       proportion of residential land zoned for lots over 25,000 sq.ft.\n",
      "        - INDUS    proportion of non-retail business acres per town\n",
      "        - CHAS     Charles River dummy variable (= 1 if tract bounds river; 0 otherwise)\n",
      "        - NOX      nitric oxides concentration (parts per 10 million)\n",
      "        - RM       average number of rooms per dwelling\n",
      "        - AGE      proportion of owner-occupied units built prior to 1940\n",
      "        - DIS      weighted distances to five Boston employment centres\n",
      "        - RAD      index of accessibility to radial highways\n",
      "        - TAX      full-value property-tax rate per $10,000\n",
      "        - PTRATIO  pupil-teacher ratio by town\n",
      "        - B        1000(Bk - 0.63)^2 where Bk is the proportion of blacks by town\n",
      "        - LSTAT    % lower status of the population\n",
      "        - MEDV     Median value of owner-occupied homes in $1000's\n",
      "\n",
      "    :Missing Attribute Values: None\n",
      "\n",
      "    :Creator: Harrison, D. and Rubinfeld, D.L.\n",
      "\n",
      "This is a copy of UCI ML housing dataset.\n",
      "http://archive.ics.uci.edu/ml/datasets/Housing\n",
      "\n",
      "\n",
      "This dataset was taken from the StatLib library which is maintained at Carnegie Mellon University.\n",
      "\n",
      "The Boston house-price data of Harrison, D. and Rubinfeld, D.L. 'Hedonic\n",
      "prices and the demand for clean air', J. Environ. Economics & Management,\n",
      "vol.5, 81-102, 1978.   Used in Belsley, Kuh & Welsch, 'Regression diagnostics\n",
      "...', Wiley, 1980.   N.B. Various transformations are used in the table on\n",
      "pages 244-261 of the latter.\n",
      "\n",
      "The Boston house-price data has been used in many machine learning papers that address regression\n",
      "problems.   \n",
      "     \n",
      "**References**\n",
      "\n",
      "   - Belsley, Kuh & Welsch, 'Regression diagnostics: Identifying Influential Data and Sources of Collinearity', Wiley, 1980. 244-261.\n",
      "   - Quinlan,R. (1993). Combining Instance-Based and Model-Based Learning. In Proceedings on the Tenth International Conference of Machine Learning, 236-243, University of Massachusetts, Amherst. Morgan Kaufmann.\n",
      "   - many more! (see http://archive.ics.uci.edu/ml/datasets/Housing)\n",
      "\n"
     ]
    }
   ],
   "source": [
    "bean = datasets.load_boston()\n",
    "print bean.DESCR"
   ]
  },
  {
   "cell_type": "code",
   "execution_count": 3,
   "metadata": {
    "collapsed": true
   },
   "outputs": [],
   "source": [
    "def load_boston():\n",
    "    scaler = StandardScaler()\n",
    "    boston = datasets.load_boston()\n",
    "    X=boston.data\n",
    "    y=boston.target\n",
    "    X = scaler.fit_transform(X)\n",
    "    return train_test_split(X,y)"
   ]
  },
  {
   "cell_type": "code",
   "execution_count": 4,
   "metadata": {
    "collapsed": true
   },
   "outputs": [],
   "source": [
    "X_train, X_test, y_train, y_test = load_boston()"
   ]
  },
  {
   "cell_type": "code",
   "execution_count": 5,
   "metadata": {
    "collapsed": false
   },
   "outputs": [
    {
     "data": {
      "text/plain": [
       "(379L, 13L)"
      ]
     },
     "execution_count": 5,
     "metadata": {},
     "output_type": "execute_result"
    }
   ],
   "source": [
    "X_train.shape"
   ]
  },
  {
   "cell_type": "code",
   "execution_count": 6,
   "metadata": {
    "collapsed": false
   },
   "outputs": [
    {
     "data": {
      "text/plain": [
       "LinearRegression(copy_X=True, fit_intercept=True, n_jobs=1, normalize=False)"
      ]
     },
     "execution_count": 6,
     "metadata": {},
     "output_type": "execute_result"
    }
   ],
   "source": [
    "clf = LinearRegression()\n",
    "clf.fit(X_train, y_train)"
   ]
  },
  {
   "cell_type": "code",
   "execution_count": 7,
   "metadata": {
    "collapsed": false
   },
   "outputs": [
    {
     "data": {
      "text/plain": [
       "[(12.1, 18.140439982739554),\n",
       " (37.200000000000003, 33.189983927948454),\n",
       " (34.899999999999999, 33.988063078075157),\n",
       " (21.699999999999999, 24.315430460195618),\n",
       " (32.399999999999999, 36.268531889101617),\n",
       " (7.2000000000000002, 9.6935044472360534),\n",
       " (23.899999999999999, 25.051978018922949),\n",
       " (33.0, 22.837369470873433),\n",
       " (31.100000000000001, 31.970283233032145),\n",
       " (22.800000000000001, 24.723162986756947),\n",
       " (19.399999999999999, 23.221636673805026),\n",
       " (41.299999999999997, 32.026034960782482),\n",
       " (18.100000000000001, 16.521634019763479),\n",
       " (50.0, 44.280120423380126),\n",
       " (32.899999999999999, 29.851929205441003),\n",
       " (8.3000000000000007, 13.721819157300503),\n",
       " (29.800000000000001, 32.179064736056816),\n",
       " (29.899999999999999, 31.356494644408876),\n",
       " (16.699999999999999, 20.222711684185462),\n",
       " (13.9, 17.858889020142982),\n",
       " (23.199999999999999, 17.214461710323029),\n",
       " (22.199999999999999, 26.302504854568003),\n",
       " (19.300000000000001, 17.853571746655447),\n",
       " (22.600000000000001, 27.001898586674635),\n",
       " (23.899999999999999, 27.089979392957385),\n",
       " (38.700000000000003, 35.098474832826291),\n",
       " (8.8000000000000007, 7.7157734473326975),\n",
       " (31.699999999999999, 32.847139181480415),\n",
       " (10.4, 16.225635700538088),\n",
       " (50.0, 35.285237951180733),\n",
       " (8.6999999999999993, 8.8264759846881446),\n",
       " (23.399999999999999, 24.202506014110732),\n",
       " (15.699999999999999, 14.974909374134199),\n",
       " (15.6, 15.785772037151439),\n",
       " (23.100000000000001, 17.530548645684501),\n",
       " (22.300000000000001, 26.998597686542187),\n",
       " (24.699999999999999, 23.545880381977252),\n",
       " (28.600000000000001, 27.973231782064303),\n",
       " (19.899999999999999, 19.89283539485551),\n",
       " (18.199999999999999, 19.190090484176491),\n",
       " (13.199999999999999, 9.3052132535658565),\n",
       " (24.800000000000001, 26.205207428366712),\n",
       " (20.300000000000001, 23.653462203085155),\n",
       " (24.300000000000001, 24.883970170804794),\n",
       " (22.899999999999999, 22.889483376535857),\n",
       " (17.600000000000001, 16.224666425425962),\n",
       " (46.0, 40.081100871791634),\n",
       " (29.800000000000001, 24.99812684211566),\n",
       " (21.699999999999999, 24.464367307675413),\n",
       " (15.1, 17.194338117958853),\n",
       " (13.300000000000001, 20.061950120814299),\n",
       " (22.600000000000001, 23.192460496202237),\n",
       " (50.0, 40.164137003822489),\n",
       " (15.0, 16.029464929086473),\n",
       " (13.5, 12.536895986896493),\n",
       " (22.699999999999999, 24.22704858857572),\n",
       " (20.899999999999999, 20.829883896997984),\n",
       " (12.699999999999999, 12.271097757582599),\n",
       " (18.5, 19.72289142179142),\n",
       " (20.600000000000001, 16.238972307380092),\n",
       " (23.699999999999999, 27.40504048513613),\n",
       " (30.100000000000001, 29.736210951899796),\n",
       " (16.800000000000001, 20.17464771138863),\n",
       " (14.1, 15.215847590159678),\n",
       " (26.699999999999999, 33.243261110583767),\n",
       " (18.699999999999999, 21.896015497576641),\n",
       " (19.300000000000001, 22.665102251618208),\n",
       " (25.0, 27.722103020715501),\n",
       " (18.600000000000001, 16.345541486428768),\n",
       " (29.100000000000001, 31.397598788096801),\n",
       " (35.100000000000001, 35.585443919268123),\n",
       " (12.0, 12.141706679258458),\n",
       " (43.799999999999997, 34.802731483452916),\n",
       " (23.899999999999999, 26.764066500671227),\n",
       " (19.899999999999999, 19.471425420365506),\n",
       " (21.699999999999999, 22.302140289631133),\n",
       " (23.600000000000001, 30.355950016518968),\n",
       " (8.0999999999999996, 2.7485560018509823),\n",
       " (17.100000000000001, 17.097376441786071),\n",
       " (50.0, 35.556940018406266),\n",
       " (23.100000000000001, 24.899298999365456),\n",
       " (17.100000000000001, 18.527818779430586),\n",
       " (18.899999999999999, 15.011266757321696),\n",
       " (33.799999999999997, 34.642387981948985),\n",
       " (29.399999999999999, 31.002715372259672),\n",
       " (14.1, 17.342627316815516),\n",
       " (21.100000000000001, 22.914603786530584),\n",
       " (24.399999999999999, 28.631046081580074),\n",
       " (48.5, 41.571216442802665),\n",
       " (20.300000000000001, 22.310707321638965),\n",
       " (20.399999999999999, 19.607609070865504),\n",
       " (22.899999999999999, 28.744740443511255),\n",
       " (13.4, 14.785813339595574),\n",
       " (19.5, 18.760146854388662),\n",
       " (18.300000000000001, 19.276683587140578),\n",
       " (5.0, 10.098601023143134),\n",
       " (19.199999999999999, 19.10079442657592),\n",
       " (24.300000000000001, 28.199253794140098),\n",
       " (34.899999999999999, 29.367799194560479),\n",
       " (20.600000000000001, 22.730846580025677),\n",
       " (23.300000000000001, 28.270977009423362),\n",
       " (16.100000000000001, 21.051555733597358),\n",
       " (23.600000000000001, 29.202363697830652),\n",
       " (25.0, 24.585133522104332),\n",
       " (29.600000000000001, 25.468804879663764),\n",
       " (19.699999999999999, 21.528616108893956),\n",
       " (28.699999999999999, 25.285203208873479),\n",
       " (15.199999999999999, 18.891644282134948),\n",
       " (30.800000000000001, 31.442236661826499),\n",
       " (27.899999999999999, 20.038153471552469),\n",
       " (21.399999999999999, 21.825470782100158),\n",
       " (42.799999999999997, 28.900852070447087),\n",
       " (50.0, 24.654711770258775),\n",
       " (17.399999999999999, 15.330846695767328),\n",
       " (17.699999999999999, 19.692537992296174),\n",
       " (15.199999999999999, 16.014226857200587),\n",
       " (27.5, 14.8374572519414),\n",
       " (14.4, 9.8502597801135714),\n",
       " (33.200000000000003, 31.991276753890119),\n",
       " (22.199999999999999, 19.633357342651273),\n",
       " (22.0, 28.859133460644692),\n",
       " (28.0, 28.350773897039424),\n",
       " (19.300000000000001, 21.28430249280812),\n",
       " (20.100000000000001, 21.410444795457334),\n",
       " (48.799999999999997, 40.125164319597602),\n",
       " (19.5, 20.718410951337049),\n",
       " (23.199999999999999, 26.094030014356843)]"
      ]
     },
     "execution_count": 7,
     "metadata": {},
     "output_type": "execute_result"
    }
   ],
   "source": [
    "zip (y_test, clf.predict(X_test))"
   ]
  },
  {
   "cell_type": "markdown",
   "metadata": {},
   "source": [
    "# calculating R^2 and Mean Squared Error and Root Mean Squared Error "
   ]
  },
  {
   "cell_type": "code",
   "execution_count": 10,
   "metadata": {
    "collapsed": true
   },
   "outputs": [],
   "source": [
    "from math import sqrt"
   ]
  },
  {
   "cell_type": "code",
   "execution_count": 23,
   "metadata": {
    "collapsed": false
   },
   "outputs": [
    {
     "name": "stdout",
     "output_type": "stream",
     "text": [
      "r2 =  0.742396834221\n",
      "mse 24.7784200029\n",
      "Rmse 4.9777926838\n"
     ]
    }
   ],
   "source": [
    "print \"r2 = \",r2_score(y_test, clf.predict(X_test))\n",
    "mse = mean_squared_error(y_test, clf.predict(X_test))\n",
    "print \"mse\",mse\n",
    "print \"Rmse\",sqrt(mse)"
   ]
  },
  {
   "cell_type": "markdown",
   "metadata": {},
   "source": [
    "# Ridge Linear Model"
   ]
  },
  {
   "cell_type": "code",
   "execution_count": 13,
   "metadata": {
    "collapsed": true
   },
   "outputs": [],
   "source": [
    "from sklearn.linear_model import Ridge\n",
    "from sklearn.linear_model import RidgeCV"
   ]
  },
  {
   "cell_type": "code",
   "execution_count": 14,
   "metadata": {
    "collapsed": false
   },
   "outputs": [
    {
     "data": {
      "text/plain": [
       "Ridge(alpha=1.0, copy_X=True, fit_intercept=True, max_iter=None,\n",
       "   normalize=False, random_state=None, solver='auto', tol=0.001)"
      ]
     },
     "execution_count": 14,
     "metadata": {},
     "output_type": "execute_result"
    }
   ],
   "source": [
    "clf = Ridge(alpha=1.0)\n",
    "clf.fit(X_train, y_train)"
   ]
  },
  {
   "cell_type": "code",
   "execution_count": 18,
   "metadata": {
    "collapsed": false
   },
   "outputs": [
    {
     "name": "stdout",
     "output_type": "stream",
     "text": [
      "r^2 =  0.743101914075\n",
      "mse =  24.7105995446\n",
      "Rmse =  4.97097571354\n"
     ]
    }
   ],
   "source": [
    "print \"r^2 = \",r2_score(y_test, clf.predict(X_test))##r^2\n",
    "mse = mean_squared_error(y_test, clf.predict(X_test))\n",
    "print \"mse = \",mse##mse\n",
    "print \"Rmse = \",sqrt(mse)##RMSE"
   ]
  },
  {
   "cell_type": "markdown",
   "metadata": {},
   "source": [
    "# Optimizing"
   ]
  },
  {
   "cell_type": "code",
   "execution_count": 19,
   "metadata": {
    "collapsed": false
   },
   "outputs": [
    {
     "data": {
      "text/plain": [
       "Ridge(alpha=5.0, copy_X=True, fit_intercept=True, max_iter=None,\n",
       "   normalize=False, random_state=None, solver='auto', tol=0.001)"
      ]
     },
     "execution_count": 19,
     "metadata": {},
     "output_type": "execute_result"
    }
   ],
   "source": [
    "clf = Ridge(alpha=5.0)\n",
    "clf.fit(X_train, y_train)"
   ]
  },
  {
   "cell_type": "code",
   "execution_count": 20,
   "metadata": {
    "collapsed": false
   },
   "outputs": [
    {
     "name": "stdout",
     "output_type": "stream",
     "text": [
      "r^2 =  0.743188346915\n",
      "mse =  24.7022857135\n",
      "Rmse =  4.97013940584\n"
     ]
    }
   ],
   "source": [
    "print \"r^2 = \",r2_score(y_test, clf.predict(X_test))##r^2\n",
    "mse = mean_squared_error(y_test, clf.predict(X_test))\n",
    "print \"mse = \",mse##mse\n",
    "print \"Rmse = \",sqrt(mse)##RMSE"
   ]
  },
  {
   "cell_type": "code",
   "execution_count": 21,
   "metadata": {
    "collapsed": false
   },
   "outputs": [
    {
     "data": {
      "text/plain": [
       "Ridge(alpha=10.0, copy_X=True, fit_intercept=True, max_iter=None,\n",
       "   normalize=False, random_state=None, solver='auto', tol=0.001)"
      ]
     },
     "execution_count": 21,
     "metadata": {},
     "output_type": "execute_result"
    }
   ],
   "source": [
    "clf = Ridge(alpha=10.0)\n",
    "clf.fit(X_train, y_train)"
   ]
  },
  {
   "cell_type": "code",
   "execution_count": 22,
   "metadata": {
    "collapsed": false
   },
   "outputs": [
    {
     "name": "stdout",
     "output_type": "stream",
     "text": [
      "r^2 =  0.742396834221\n",
      "mse =  24.7784200029\n",
      "Rmse =  4.9777926838\n"
     ]
    }
   ],
   "source": [
    "print \"r^2 = \",r2_score(y_test, clf.predict(X_test))##r^2\n",
    "mse = mean_squared_error(y_test, clf.predict(X_test))\n",
    "print \"mse = \",mse##mse\n",
    "print \"Rmse = \",sqrt(mse)##RMSE"
   ]
  },
  {
   "cell_type": "markdown",
   "metadata": {},
   "source": [
    "# Conclusion/Observation\n",
    "### The performance  measured by R2,MSE ,standard Linear Regression and Ridge model are pretty similar for this particular dataset. Also doesnot changes by optimizing i.e by adjusting the regularization paramater"
   ]
  },
  {
   "cell_type": "code",
   "execution_count": null,
   "metadata": {
    "collapsed": true
   },
   "outputs": [],
   "source": []
  }
 ],
 "metadata": {
  "anaconda-cloud": {},
  "kernelspec": {
   "display_name": "Python [Root]",
   "language": "python",
   "name": "Python [Root]"
  },
  "language_info": {
   "codemirror_mode": {
    "name": "ipython",
    "version": 2
   },
   "file_extension": ".py",
   "mimetype": "text/x-python",
   "name": "python",
   "nbconvert_exporter": "python",
   "pygments_lexer": "ipython2",
   "version": "2.7.12"
  }
 },
 "nbformat": 4,
 "nbformat_minor": 0
}
